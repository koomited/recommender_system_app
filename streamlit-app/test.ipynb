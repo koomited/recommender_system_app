{
 "cells": [
  {
   "cell_type": "code",
   "execution_count": 1,
   "metadata": {},
   "outputs": [],
   "source": [
    "import pandas as pd"
   ]
  },
  {
   "cell_type": "code",
   "execution_count": 2,
   "metadata": {},
   "outputs": [],
   "source": [
    "df =pd.read_csv(\"../data/ml-latest-small/links.csv\")"
   ]
  },
  {
   "cell_type": "code",
   "execution_count": 3,
   "metadata": {},
   "outputs": [
    {
     "data": {
      "text/html": [
       "<div>\n",
       "<style scoped>\n",
       "    .dataframe tbody tr th:only-of-type {\n",
       "        vertical-align: middle;\n",
       "    }\n",
       "\n",
       "    .dataframe tbody tr th {\n",
       "        vertical-align: top;\n",
       "    }\n",
       "\n",
       "    .dataframe thead th {\n",
       "        text-align: right;\n",
       "    }\n",
       "</style>\n",
       "<table border=\"1\" class=\"dataframe\">\n",
       "  <thead>\n",
       "    <tr style=\"text-align: right;\">\n",
       "      <th></th>\n",
       "      <th>movieId</th>\n",
       "      <th>imdbId</th>\n",
       "      <th>tmdbId</th>\n",
       "    </tr>\n",
       "  </thead>\n",
       "  <tbody>\n",
       "    <tr>\n",
       "      <th>0</th>\n",
       "      <td>1</td>\n",
       "      <td>114709</td>\n",
       "      <td>862.0</td>\n",
       "    </tr>\n",
       "    <tr>\n",
       "      <th>1</th>\n",
       "      <td>2</td>\n",
       "      <td>113497</td>\n",
       "      <td>8844.0</td>\n",
       "    </tr>\n",
       "    <tr>\n",
       "      <th>2</th>\n",
       "      <td>3</td>\n",
       "      <td>113228</td>\n",
       "      <td>15602.0</td>\n",
       "    </tr>\n",
       "    <tr>\n",
       "      <th>3</th>\n",
       "      <td>4</td>\n",
       "      <td>114885</td>\n",
       "      <td>31357.0</td>\n",
       "    </tr>\n",
       "    <tr>\n",
       "      <th>4</th>\n",
       "      <td>5</td>\n",
       "      <td>113041</td>\n",
       "      <td>11862.0</td>\n",
       "    </tr>\n",
       "  </tbody>\n",
       "</table>\n",
       "</div>"
      ],
      "text/plain": [
       "   movieId  imdbId   tmdbId\n",
       "0        1  114709    862.0\n",
       "1        2  113497   8844.0\n",
       "2        3  113228  15602.0\n",
       "3        4  114885  31357.0\n",
       "4        5  113041  11862.0"
      ]
     },
     "execution_count": 3,
     "metadata": {},
     "output_type": "execute_result"
    }
   ],
   "source": [
    "df.head()"
   ]
  },
  {
   "cell_type": "code",
   "execution_count": 9,
   "metadata": {},
   "outputs": [],
   "source": [
    "a=df[df[\"movieId\"]==1][\"tmdbId\"]"
   ]
  },
  {
   "cell_type": "code",
   "execution_count": 11,
   "metadata": {},
   "outputs": [
    {
     "data": {
      "text/plain": [
       "862.0"
      ]
     },
     "execution_count": 11,
     "metadata": {},
     "output_type": "execute_result"
    }
   ],
   "source": [
    "a.item()"
   ]
  },
  {
   "cell_type": "code",
   "execution_count": 6,
   "metadata": {},
   "outputs": [
    {
     "data": {
      "text/plain": [
       "0            1\n",
       "1            2\n",
       "2            3\n",
       "3            4\n",
       "4            5\n",
       "         ...  \n",
       "9737    193581\n",
       "9738    193583\n",
       "9739    193585\n",
       "9740    193587\n",
       "9741    193609\n",
       "Name: movieId, Length: 9742, dtype: int64"
      ]
     },
     "execution_count": 6,
     "metadata": {},
     "output_type": "execute_result"
    }
   ],
   "source": [
    "df.movieId"
   ]
  },
  {
   "cell_type": "code",
   "execution_count": 2,
   "metadata": {},
   "outputs": [],
   "source": [
    "item_latents = pd.read_csv(\"data/items_latents.csv\")"
   ]
  },
  {
   "cell_type": "code",
   "execution_count": 8,
   "metadata": {},
   "outputs": [
    {
     "data": {
      "text/html": [
       "<div>\n",
       "<style scoped>\n",
       "    .dataframe tbody tr th:only-of-type {\n",
       "        vertical-align: middle;\n",
       "    }\n",
       "\n",
       "    .dataframe tbody tr th {\n",
       "        vertical-align: top;\n",
       "    }\n",
       "\n",
       "    .dataframe thead th {\n",
       "        text-align: right;\n",
       "    }\n",
       "</style>\n",
       "<table border=\"1\" class=\"dataframe\">\n",
       "  <thead>\n",
       "    <tr style=\"text-align: right;\">\n",
       "      <th></th>\n",
       "      <th>0</th>\n",
       "      <th>1</th>\n",
       "      <th>2</th>\n",
       "      <th>3</th>\n",
       "      <th>4</th>\n",
       "      <th>5</th>\n",
       "      <th>6</th>\n",
       "      <th>7</th>\n",
       "      <th>8</th>\n",
       "      <th>9</th>\n",
       "      <th>...</th>\n",
       "      <th>59037</th>\n",
       "      <th>59038</th>\n",
       "      <th>59039</th>\n",
       "      <th>59040</th>\n",
       "      <th>59041</th>\n",
       "      <th>59042</th>\n",
       "      <th>59043</th>\n",
       "      <th>59044</th>\n",
       "      <th>59045</th>\n",
       "      <th>59046</th>\n",
       "    </tr>\n",
       "  </thead>\n",
       "  <tbody>\n",
       "    <tr>\n",
       "      <th>0</th>\n",
       "      <td>1.859940</td>\n",
       "      <td>-0.403787</td>\n",
       "      <td>-0.623316</td>\n",
       "      <td>-0.022038</td>\n",
       "      <td>-0.252642</td>\n",
       "      <td>-0.147366</td>\n",
       "      <td>0.732697</td>\n",
       "      <td>-0.258567</td>\n",
       "      <td>-0.290718</td>\n",
       "      <td>-1.030618</td>\n",
       "      <td>...</td>\n",
       "      <td>0.005955</td>\n",
       "      <td>0.005955</td>\n",
       "      <td>0.005955</td>\n",
       "      <td>0.005955</td>\n",
       "      <td>-0.011560</td>\n",
       "      <td>-0.011560</td>\n",
       "      <td>-0.011560</td>\n",
       "      <td>0.001563</td>\n",
       "      <td>1.454350e-06</td>\n",
       "      <td>1.454350e-06</td>\n",
       "    </tr>\n",
       "    <tr>\n",
       "      <th>1</th>\n",
       "      <td>1.573928</td>\n",
       "      <td>0.930084</td>\n",
       "      <td>1.039154</td>\n",
       "      <td>0.858215</td>\n",
       "      <td>-0.504973</td>\n",
       "      <td>-0.658577</td>\n",
       "      <td>-0.154672</td>\n",
       "      <td>0.648756</td>\n",
       "      <td>1.068196</td>\n",
       "      <td>0.850822</td>\n",
       "      <td>...</td>\n",
       "      <td>-0.007155</td>\n",
       "      <td>-0.007155</td>\n",
       "      <td>-0.007155</td>\n",
       "      <td>-0.007155</td>\n",
       "      <td>0.013889</td>\n",
       "      <td>0.013889</td>\n",
       "      <td>0.013889</td>\n",
       "      <td>0.000452</td>\n",
       "      <td>4.208838e-07</td>\n",
       "      <td>4.208838e-07</td>\n",
       "    </tr>\n",
       "    <tr>\n",
       "      <th>2</th>\n",
       "      <td>0.945777</td>\n",
       "      <td>-0.805498</td>\n",
       "      <td>-0.846989</td>\n",
       "      <td>0.066148</td>\n",
       "      <td>-0.696056</td>\n",
       "      <td>-0.866151</td>\n",
       "      <td>0.482989</td>\n",
       "      <td>-0.032412</td>\n",
       "      <td>0.130660</td>\n",
       "      <td>0.877005</td>\n",
       "      <td>...</td>\n",
       "      <td>-0.002040</td>\n",
       "      <td>-0.002040</td>\n",
       "      <td>-0.002040</td>\n",
       "      <td>-0.002040</td>\n",
       "      <td>0.003961</td>\n",
       "      <td>0.003961</td>\n",
       "      <td>0.003961</td>\n",
       "      <td>-0.001623</td>\n",
       "      <td>-1.509648e-06</td>\n",
       "      <td>-1.509648e-06</td>\n",
       "    </tr>\n",
       "    <tr>\n",
       "      <th>3</th>\n",
       "      <td>0.434356</td>\n",
       "      <td>1.372746</td>\n",
       "      <td>1.480768</td>\n",
       "      <td>0.757537</td>\n",
       "      <td>0.502105</td>\n",
       "      <td>0.861980</td>\n",
       "      <td>1.174765</td>\n",
       "      <td>0.357013</td>\n",
       "      <td>0.454678</td>\n",
       "      <td>-0.458667</td>\n",
       "      <td>...</td>\n",
       "      <td>-0.013928</td>\n",
       "      <td>-0.013928</td>\n",
       "      <td>-0.013928</td>\n",
       "      <td>-0.013928</td>\n",
       "      <td>0.027038</td>\n",
       "      <td>0.027038</td>\n",
       "      <td>0.027038</td>\n",
       "      <td>0.001538</td>\n",
       "      <td>1.431097e-06</td>\n",
       "      <td>1.431097e-06</td>\n",
       "    </tr>\n",
       "    <tr>\n",
       "      <th>4</th>\n",
       "      <td>0.023330</td>\n",
       "      <td>-0.213744</td>\n",
       "      <td>-0.268805</td>\n",
       "      <td>-0.505235</td>\n",
       "      <td>-0.200306</td>\n",
       "      <td>-1.575257</td>\n",
       "      <td>-0.301622</td>\n",
       "      <td>0.638860</td>\n",
       "      <td>0.666906</td>\n",
       "      <td>0.740368</td>\n",
       "      <td>...</td>\n",
       "      <td>-0.008822</td>\n",
       "      <td>-0.008822</td>\n",
       "      <td>-0.008822</td>\n",
       "      <td>-0.008822</td>\n",
       "      <td>0.017125</td>\n",
       "      <td>0.017125</td>\n",
       "      <td>0.017125</td>\n",
       "      <td>0.004312</td>\n",
       "      <td>4.011279e-06</td>\n",
       "      <td>4.011279e-06</td>\n",
       "    </tr>\n",
       "  </tbody>\n",
       "</table>\n",
       "<p>5 rows × 59047 columns</p>\n",
       "</div>"
      ],
      "text/plain": [
       "          0         1         2         3         4         5         6  \\\n",
       "0  1.859940 -0.403787 -0.623316 -0.022038 -0.252642 -0.147366  0.732697   \n",
       "1  1.573928  0.930084  1.039154  0.858215 -0.504973 -0.658577 -0.154672   \n",
       "2  0.945777 -0.805498 -0.846989  0.066148 -0.696056 -0.866151  0.482989   \n",
       "3  0.434356  1.372746  1.480768  0.757537  0.502105  0.861980  1.174765   \n",
       "4  0.023330 -0.213744 -0.268805 -0.505235 -0.200306 -1.575257 -0.301622   \n",
       "\n",
       "          7         8         9  ...     59037     59038     59039     59040  \\\n",
       "0 -0.258567 -0.290718 -1.030618  ...  0.005955  0.005955  0.005955  0.005955   \n",
       "1  0.648756  1.068196  0.850822  ... -0.007155 -0.007155 -0.007155 -0.007155   \n",
       "2 -0.032412  0.130660  0.877005  ... -0.002040 -0.002040 -0.002040 -0.002040   \n",
       "3  0.357013  0.454678 -0.458667  ... -0.013928 -0.013928 -0.013928 -0.013928   \n",
       "4  0.638860  0.666906  0.740368  ... -0.008822 -0.008822 -0.008822 -0.008822   \n",
       "\n",
       "      59041     59042     59043     59044         59045         59046  \n",
       "0 -0.011560 -0.011560 -0.011560  0.001563  1.454350e-06  1.454350e-06  \n",
       "1  0.013889  0.013889  0.013889  0.000452  4.208838e-07  4.208838e-07  \n",
       "2  0.003961  0.003961  0.003961 -0.001623 -1.509648e-06 -1.509648e-06  \n",
       "3  0.027038  0.027038  0.027038  0.001538  1.431097e-06  1.431097e-06  \n",
       "4  0.017125  0.017125  0.017125  0.004312  4.011279e-06  4.011279e-06  \n",
       "\n",
       "[5 rows x 59047 columns]"
      ]
     },
     "execution_count": 8,
     "metadata": {},
     "output_type": "execute_result"
    }
   ],
   "source": [
    "item_latents = pd.read_csv(\"data/items_latents.csv\", index_col=0)\n",
    "item_latents.head()"
   ]
  },
  {
   "cell_type": "code",
   "execution_count": 9,
   "metadata": {},
   "outputs": [
    {
     "data": {
      "text/plain": [
       "(10, 59047)"
      ]
     },
     "execution_count": 9,
     "metadata": {},
     "output_type": "execute_result"
    }
   ],
   "source": [
    "item_latents = item_latents.to_numpy()\n",
    "item_latents.shape"
   ]
  },
  {
   "cell_type": "code",
   "execution_count": 4,
   "metadata": {},
   "outputs": [],
   "source": [
    "item_biases = pd.read_csv(\"data/item_biases.csv\", index_col=0)\n",
    "item_biases = item_biases.to_numpy().ravel()\n"
   ]
  },
  {
   "cell_type": "code",
   "execution_count": 5,
   "metadata": {},
   "outputs": [
    {
     "data": {
      "text/plain": [
       "(59047,)"
      ]
     },
     "execution_count": 5,
     "metadata": {},
     "output_type": "execute_result"
    }
   ],
   "source": [
    "item_biases.shape"
   ]
  },
  {
   "cell_type": "code",
   "execution_count": 40,
   "metadata": {},
   "outputs": [
    {
     "data": {
      "text/plain": [
       "(59047,)"
      ]
     },
     "execution_count": 40,
     "metadata": {},
     "output_type": "execute_result"
    }
   ],
   "source": [
    "item_biases.shape"
   ]
  },
  {
   "cell_type": "code",
   "execution_count": null,
   "metadata": {},
   "outputs": [],
   "source": []
  }
 ],
 "metadata": {
  "kernelspec": {
   "display_name": "venv",
   "language": "python",
   "name": "python3"
  },
  "language_info": {
   "codemirror_mode": {
    "name": "ipython",
    "version": 3
   },
   "file_extension": ".py",
   "mimetype": "text/x-python",
   "name": "python",
   "nbconvert_exporter": "python",
   "pygments_lexer": "ipython3",
   "version": "3.11.2"
  }
 },
 "nbformat": 4,
 "nbformat_minor": 2
}
